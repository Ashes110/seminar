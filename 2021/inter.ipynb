{
 "cells": [
  {
   "cell_type": "code",
   "execution_count": null,
   "metadata": {},
   "outputs": [],
   "source": [
    "import pandas as pd\n",
    "import numpy as np\n",
    "import copy"
   ]
  },
  {
   "cell_type": "code",
   "execution_count": null,
   "metadata": {},
   "outputs": [],
   "source": [
    "ins = pd.read_excel(\"xlsx_file\", sheet_name=0, index_col=0)\n",
    "uri = pd.read_excel(\"xlsx_file\", sheet_name=1, index_col=0)\n"
   ]
  },
  {
   "cell_type": "code",
   "execution_count": null,
   "metadata": {},
   "outputs": [],
   "source": [
    "reins = ins.drop([\"\", \"\"], axis=1)\n",
    "reins = reins.fillna(0).replace(\"○\", 1).replace(\"\", 0).replace(\"\\u3000\", 0).replace(\"-\", 0)\n",
    "\n",
    "reuri = uri.iloc[:, 0:9]\n",
    "reuri = reuri.drop([\"\", \"\"], axis=1)\n",
    "\n",
    "reins, reuri = reins.to_numpy().tolist(), reuri.to_numpy().tolist()\n"
   ]
  },
  {
   "cell_type": "code",
   "execution_count": null,
   "metadata": {},
   "outputs": [],
   "source": [
    "reins = list(map(list, set(map(tuple, reins))))\n",
    "reuri = list(map(list, set(map(tuple, reuri))))\n"
   ]
  },
  {
   "cell_type": "code",
   "execution_count": null,
   "metadata": {},
   "outputs": [],
   "source": [
    "Input = []\n",
    "\n",
    "for i in range(len(reins)):\n",
    "    for j in range(len(reuri)):\n",
    "        if reins[i][1] == reuri[j][0] and reins[i][3] == reuri[j][1]:\n",
    "            reins[i].extend(reuri[j][2:])\n",
    "            Input.append(reins[i])\n",
    "\n",
    "Input = [i[0:20] for i in Input]\n"
   ]
  },
  {
   "cell_type": "code",
   "execution_count": null,
   "metadata": {},
   "outputs": [],
   "source": [
    "# 必要なデータから0を抜く\n",
    "hlin0 = []\n",
    "for i in range(len(Input)):\n",
    "    if Input[i][18] != 0:\n",
    "        hlin0.append(Input[i])\n",
    "\n",
    "hlin00 = []\n",
    "for i in range(len(hlin0)):\n",
    "    if hlin0[i][19] != 0:\n",
    "        hlin00.append(hlin0[i])\n",
    "\n",
    "hlin0 = []\n",
    "for i in range(len(hlin00)):\n",
    "    if hlin00[i][2] != \"サービス業(他に分類されないもの)\":\n",
    "        hlin0.append(hlin00[i])\n",
    "\n",
    "hlin00 = []\n",
    "for i in range(len(hlin0)):\n",
    "    if hlin0[i][2] != \"複合サービス事業\":\n",
    "        hlin00.append(hlin0[i])\n",
    "\n",
    "hlin0 = hlin00\n"
   ]
  },
  {
   "cell_type": "code",
   "execution_count": null,
   "metadata": {},
   "outputs": [],
   "source": [
    "for i in range(len(hlin0)):\n",
    "    if hlin0[i][2] == \"不動産業，物品賃貸業\":\n",
    "        hlin0[i][2] = -0.0773\n",
    "    elif hlin0[i][2] == \"建設業\":\n",
    "        hlin0[i][2] = -1.4450\n",
    "    elif hlin0[i][2] == \"情報通信業\":\n",
    "        hlin0[i][2] = -0.1350\n",
    "    elif hlin0[i][2] == \"林業\":\n",
    "        hlin0[i][2] = -0.4030\n",
    "    elif hlin0[i][2] == \"電気・ガス・熱供給・水道業\":\n",
    "        hlin0[i][2] = -0.9330\n",
    "    elif hlin0[i][2] == \"生活関連サービス業，娯楽業\":\n",
    "        hlin0[i][2] = -1.004\n",
    "    elif hlin0[i][2] == \"卸売業，小売業\":\n",
    "        hlin0[i][2] = -0.4550\n",
    "    elif hlin0[i][2] == \"医療，福祉\":\n",
    "        hlin0[i][2] = -0.6319\n",
    "    elif hlin0[i][2] == \"宿泊業，飲食サービス業\":\n",
    "        hlin0[i][2] = -0.4607\n",
    "    elif hlin0[i][2] == \"製造業\":\n",
    "        hlin0[i][2] = -0.7577\n",
    "    elif hlin0[i][2] == \"教育，学習支援業\":\n",
    "        hlin0[i][2] = -0.0654\n",
    "    elif hlin0[i][2] == \"学術研究，専門・技術サービス業\":\n",
    "        hlin0[i][2] = -0.1173\n",
    "    elif hlin0[i][2] == \"金融業，保険業\":\n",
    "        hlin0[i][2] = -1.7570\n",
    "    elif hlin0[i][2] == \"運輸業，郵便業\":\n",
    "        hlin0[i][2] = -0.8893\n"
   ]
  },
  {
   "cell_type": "code",
   "execution_count": null,
   "metadata": {},
   "outputs": [],
   "source": [
    "for i in range(len(hlin0)):\n",
    "    if hlin0[i][4] == \"内部犯罪・内部不正行為\":\n",
    "        hlin0[i][4] = 1\n",
    "    elif hlin0[i][4] == \"不正な情報持ち出し\":\n",
    "        hlin0[i][4] = 1\n",
    "    else:\n",
    "        hlin0[i][4] = 0\n"
   ]
  },
  {
   "cell_type": "code",
   "execution_count": null,
   "metadata": {},
   "outputs": [],
   "source": [
    "import requests\n",
    "from bs4 import BeautifulSoup\n"
   ]
  },
  {
   "cell_type": "code",
   "execution_count": null,
   "metadata": {},
   "outputs": [],
   "source": [
    "url = \"http://windy.mind.meiji.ac.jp/~atsu110/Yamada/index.php\"\n",
    "result = []\n",
    "\n",
    "for i in range(len(hlin0)):\n",
    "    p = {\"people\": hlin0[i][3], \"value\": hlin0[i][18], \"intent\": hlin0[i][4], \"res\": hlin0[i][16], \"eco\": hlin0[i][13], \"mind\": hlin0[i][14], \"indus\": hlin0[i][2], \"name\": hlin0[i][5],\n",
    "         \"adress\": hlin0[i][6], \"number\": hlin0[i][7], \"date\": hlin0[i][8], \"sex\": hlin0[i][9], \"job\": hlin0[i][10], \"email\": hlin0[i][11], \"id\": hlin0[i][12], \"mul\": 0, \"law\": 0, \"soc\": 1}\n",
    "    hdoc = requests.get(url, params=p).content\n",
    "    soup = BeautifulSoup(hdoc, \"html.parser\")\n",
    "    price = soup.find_all(\"td\")\n",
    "    result.append([hlin0[i][0], hlin0[i][1], hlin0[i][19], str(price[1].contents[0]).split()[\n",
    "                  0], str(price[3].contents[0]).split()[0], str(price[5].contents[0]).split()[0]])\n"
   ]
  },
  {
   "cell_type": "code",
   "execution_count": null,
   "metadata": {},
   "outputs": [],
   "source": [
    "x = []\n",
    "y = []\n",
    "z = []\n",
    "w = []\n",
    "for i in range(len(result)):\n",
    "    x.append(float(result[i][2]))\n",
    "    y.append(float(result[i][3].replace(\",\", \"\"))/100)\n",
    "    z.append(float(result[i][4].replace(\",\", \"\"))/100)\n",
    "    w.append(float(result[i][5].replace(\",\", \"\"))*133/100)\n"
   ]
  },
  {
   "cell_type": "code",
   "execution_count": null,
   "metadata": {},
   "outputs": [],
   "source": [
    "for i in range(len(result)):\n",
    "    result[i][0] = result[i][0].year\n",
    "    result[i][2] = x[i]\n",
    "    result[i][3] = y[i]\n",
    "    result[i][4] = z[i]\n",
    "    result[i][5] = w[i]\n"
   ]
  },
  {
   "cell_type": "code",
   "execution_count": null,
   "metadata": {},
   "outputs": [],
   "source": [
    "result01 = [result[i][1:3] for i in range(len(result))]\n",
    "result02 = list(map(list, set(map(tuple, result01))))\n",
    "[result02[i].extend([0, 0, 0]) for i in range(len(result02))]\n",
    "for i in range(len(result02)):\n",
    "    for j in range(len(result)):\n",
    "        if result02[i][0:2] == result[j][1:3]:\n",
    "            result02[i][2] += result[j][3]\n",
    "            result02[i][3] += result[j][4]\n",
    "            result02[i][4] += result[j][5]\n"
   ]
  },
  {
   "cell_type": "code",
   "execution_count": null,
   "metadata": {},
   "outputs": [],
   "source": [
    "from sklearn.metrics import r2_score\n",
    "from sklearn.metrics import mean_squared_error\n",
    "from sklearn.metrics import mean_absolute_error\n",
    "import matplotlib.pyplot as plt\n",
    "\n",
    "x, y = [], []\n",
    "for i in range(len(result02)):\n",
    "    x.append(result02[i][1])\n",
    "    y.append(result02[i][2])\n",
    "\n",
    "r2 = r2_score(x, y)\n",
    "rmse = np.sqrt(mean_squared_error(x, y))\n",
    "mae = mean_absolute_error(x, y)\n",
    "\n",
    "print(r2, rmse, mae)\n",
    "\n",
    "\n",
    "plt.scatter(x, y)\n",
    "plt.plot([0, 600000], [0, 600000])\n",
    "plt.show()\n"
   ]
  },
  {
   "cell_type": "code",
   "execution_count": null,
   "metadata": {},
   "outputs": [],
   "source": [
    "x, y = [], []\n",
    "for i in range(len(result02)):\n",
    "    x.append(result02[i][1])\n",
    "    y.append(result02[i][3])\n",
    "\n",
    "r2 = r2_score(x, y)\n",
    "rmse = np.sqrt(mean_squared_error(x, y))\n",
    "mae = mean_absolute_error(x, y)\n",
    "\n",
    "print(r2, rmse, mae)\n",
    "\n",
    "\n",
    "plt.scatter(x, y)\n",
    "plt.plot([0, 400000], [0, 400000])\n",
    "plt.show()\n"
   ]
  },
  {
   "cell_type": "code",
   "execution_count": null,
   "metadata": {},
   "outputs": [],
   "source": [
    "x, y = [], []\n",
    "for i in range(len(result02)):\n",
    "    x.append(result02[i][1])\n",
    "    y.append(result02[i][4])\n",
    "\n",
    "r2 = r2_score(x, y)\n",
    "rmse = np.sqrt(mean_squared_error(x, y))\n",
    "mae = mean_absolute_error(x, y)\n",
    "\n",
    "print(r2, rmse, mae)\n",
    "\n",
    "\n",
    "plt.scatter(x, y)\n",
    "plt.plot([0, 400000], [0, 400000])\n",
    "plt.show()\n"
   ]
  },
  {
   "cell_type": "code",
   "execution_count": null,
   "metadata": {},
   "outputs": [],
   "source": [
    "xm = 100000\n",
    "xM = 0\n",
    "im = 0\n",
    "iM = 0\n",
    "for i in result02:\n",
    "    x1 = abs(i[1] - i[2])\n",
    "    if xm > x1:\n",
    "        xm = x1\n",
    "        jm = i\n",
    "    if x1 > xM:\n",
    "        xM = x1\n",
    "        jM = i\n",
    "print(jm, xm)\n",
    "print(jM, xM)\n"
   ]
  },
  {
   "cell_type": "code",
   "execution_count": null,
   "metadata": {},
   "outputs": [],
   "source": [
    "import statsmodels.api as sm\n",
    "import math\n",
    "\n",
    "hlinM = copy.deepcopy(hlin0)\n",
    "\n",
    "for i in range(len(hlinM)):\n",
    "    hlinM[i][3] = math.log(float(hlinM[i][3]), math.e)\n",
    "    hlinM[i][18] = math.log(float(hlinM[i][18]), math.e)\n",
    "    hlinM[i][19] = math.log(float(hlinM[i][19]), math.e)\n",
    "\n",
    "kai = pd.DataFrame(hlinM)\n",
    "kx = kai[[2, 3, 4, 5, 6, 7, 8, 9, 10, 11, 12, 13, 14, 15, 16, 17, 18]]\n",
    "ky = kai[[19]]\n",
    "\n",
    "kx = sm.add_constant(kx)\n",
    "\n",
    "OLS = sm.OLS(ky, kx).fit()\n",
    "GLS = sm.GLS(ky, kx).fit()\n",
    "GLSAR = sm.GLSAR(ky, kx).fit()\n",
    "WLS = sm.WLS(ky, kx).fit()\n",
    "RecursiveLS = sm.RecursiveLS(ky, kx).fit()\n",
    "# RollingOLS = sm.RollingOLS(ky, kx).fit()\n",
    "# RollingWLS = sm.RollingWLS(ky, kx).fit()\n"
   ]
  },
  {
   "cell_type": "code",
   "execution_count": null,
   "metadata": {},
   "outputs": [],
   "source": [
    "OLS.summary()\n"
   ]
  }
 ],
 "metadata": {
  "kernelspec": {
   "display_name": "Python 3.10.1 64-bit",
   "language": "python",
   "name": "python3"
  },
  "language_info": {
   "codemirror_mode": {
    "name": "ipython",
    "version": 3
   },
   "file_extension": ".py",
   "mimetype": "text/x-python",
   "name": "python",
   "nbconvert_exporter": "python",
   "pygments_lexer": "ipython3",
   "version": "3.10.1"
  },
  "orig_nbformat": 4,
  "vscode": {
   "interpreter": {
    "hash": "83acdbecad907151b3031d4a95a69bb8f19c17c7744d8e1da67a9b7e86d5d483"
   }
  }
 },
 "nbformat": 4,
 "nbformat_minor": 2
}
