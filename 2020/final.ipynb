{
 "cells": [
  {
   "cell_type": "code",
   "execution_count": null,
   "metadata": {},
   "outputs": [],
   "source": [
    "import xlrd\n",
    "import xlsxwriter\n",
    "from collections import Counter\n",
    "from itertools import chain\n",
    "from janome.tokenizer import Tokenizer\n",
    "import re\n",
    "import got\n",
    "import numpy as np\n",
    "import pandas as pd\n",
    "import csv\n",
    "import math\n",
    "from fractions import Fraction\n",
    "import matplotlib.pyplot as plt\n",
    "from math import *\n",
    "import random\n",
    "from tqdm import tqdm\n",
    "import time\n",
    "import itertools\n",
    "from vincenty import vincenty\n",
    "import matplotlib.pyplot as plt\n",
    "import collections\n",
    "from multiprocessing import Pool"
   ]
  },
  {
   "cell_type": "code",
   "execution_count": null,
   "metadata": {},
   "outputs": [],
   "source": [
    "with open('csv_name', encoding=\"utf-8\") as f:\n",
    "    book = csv.reader(f)\n",
    "    header = next(book)\n",
    "    sheet = [row for row in book]\n",
    "    sheet = np.asarray(sheet)\n",
    "    sheet2 = np.asarray(sheet).T"
   ]
  },
  {
   "cell_type": "code",
   "execution_count": null,
   "metadata": {},
   "outputs": [],
   "source": [
    "kazu = list(collections.Counter(sheet2[1]).values())\n",
    "k = np.sum(kazu)\n",
    "print(k)\n",
    "print(len(kazu))"
   ]
  },
  {
   "cell_type": "code",
   "execution_count": null,
   "metadata": {},
   "outputs": [],
   "source": [
    "print(kazu.count(288))\n",
    "for a in range(len(kazu)):\n",
    "    if kazu[a]!=288:\n",
    "        print(a)\n",
    "        print(kazu[a])"
   ]
  },
  {
   "cell_type": "code",
   "execution_count": null,
   "metadata": {},
   "outputs": [],
   "source": [
    "zikoku = [sheet2[3][i] for i in tqdm(range(k), position=0, leave=True)]"
   ]
  },
  {
   "cell_type": "code",
   "execution_count": null,
   "metadata": {},
   "outputs": [],
   "source": [
    "times = [[y for y in range(k) if zikoku[i]==zikoku[y]] for i in tqdm(range(288))]"
   ]
  },
  {
   "cell_type": "code",
   "execution_count": null,
   "metadata": {},
   "outputs": [],
   "source": [
    "kanst = np.repeat((np.random.randint(0, 100, len(kazu))<10).view(np.int8), kazu)\n",
    "sheet2 = np.append(sheet2, [kanst], axis=0)"
   ]
  },
  {
   "cell_type": "code",
   "execution_count": null,
   "metadata": {},
   "outputs": [],
   "source": [
    "def kyori1(a,b):\n",
    "    return vincenty((float(sheet2[4][a]), float(sheet2[5][a])), (float(sheet2[4][b]), float(sheet2[5][b])))\n",
    "def kyori2(a,b):\n",
    "    return vincenty((float(sheet2[4][a+1]), float(sheet2[5][a+1])), (float(sheet2[4][b+1]), float(sheet2[5][b+1])))\n",
    "def kyori3(a,b):\n",
    "    return vincenty((float(sheet2[4][a+2]), float(sheet2[5][a+2])), (float(sheet2[4][b+2]), float(sheet2[5][b+2])))"
   ]
  },
  {
   "cell_type": "code",
   "execution_count": null,
   "metadata": {},
   "outputs": [],
   "source": [
    "sums315 = [0]*48\n",
    "for a in tqdm(range(288)):#5分毎の24時間分\n",
    "    for b in range(len(times[a])-1):#同時刻にいる人のリスト\n",
    "        if int(sheet2[1][int(times[a][b])])==int(sheet2[1][int(times[a][b])+1]):#連続したら\n",
    "            if int(sheet2[10][int(times[a][b])])==2:#回復していたら\n",
    "                sheet2[10][int(times[a][b])+1] = 2\n",
    "            elif np.random.randint(0, 100)<1 and int(sheet2[10][int(times[a][b])])==1:#50パーセントで回復\n",
    "                sheet2[10][int(times[a][b])+1] = 2\n",
    "            elif int(sheet2[10][int(times[a][b])])==1:#感染中だったら\n",
    "                sheet2[10][int(times[a][b])+1] = 1\n",
    "        for c in range(b+1, len(times[a])):#接触判定用\n",
    "            if math.floor(kyori1(int(times[a][b]), int(times[a][c]))*1000)<=3 and math.floor(kyori2(int(times[a][b]), int(times[a][c]))*1000)<=3 and math.floor(kyori3(int(times[a][b]), int(times[a][c]))*1000)<=3:#15分間3メートル以内なら\n",
    "                sums315[math.floor(a/6)] += 1\n",
    "                if int(sheet2[1][int(times[a][b])])==int(sheet2[1][int(times[a][b])+1]):#連続したら\n",
    "                    if int(sheet2[10][int(times[a][b])])==0 and int(sheet2[10][int(times[a][c])])==1 and np.random.randint(0, 100)<50:#どちらかが感染でもう一方が未感染\n",
    "                        sheet2[10][int(times[a][b])+1] = 1\n",
    "                    elif int(sheet2[10][int(times[a][b])]==1) and int(sheet2[10][int(times[a][c])])==0 and np.random.randint(0, 100)<50:#どちらかが感染でもう一方が未感染\n",
    "                        sheet2[10][int(times[a][c])+1] = 1\n"
   ]
  },
  {
   "cell_type": "code",
   "execution_count": null,
   "metadata": {},
   "outputs": [],
   "source": [
    "koku=[i*0.5 for i in range(48)]\n",
    "fig = plt.figure()\n",
    "plt.plot(koku,sums315)\n",
    "plt.title(\"30分毎の接触人数(3mで15分以上を接触とする)\",fontname=\"MS Gothic\")\n",
    "plt.xlabel(\"時刻[時]\",fontname=\"MS Gothic\")\n",
    "plt.ylabel(\"接触人数[人]\",fontname=\"MS Gothic\")\n",
    "plt.xticks( np.arange(0, 25, 1))\n",
    "plt.yticks( np.arange(0, 6000, 500))\n",
    "plt.grid(True)\n",
    "plt.show()\n",
    "fig.savefig(\"plot1.png\")"
   ]
  },
  {
   "cell_type": "code",
   "execution_count": null,
   "metadata": {},
   "outputs": [],
   "source": [
    "sheet4 = [[sheet2[10][int(times[b*6][a])] for a in range(len(times[b*6]))] for b in range(48)]\n",
    "kanjo0 = [sheet4[i].count('0') for i in range(48)]\n",
    "kanjo1 = [sheet4[i].count('1') for i in range(48)]\n",
    "kanjo2 = [sheet4[i].count('2') for i in range(48)]\n",
    "fig = plt.figure()\n",
    "plt.plot(koku, kanjo0, label=\"Uninfect\")\n",
    "plt.plot(koku, kanjo1, label=\"infect\")\n",
    "plt.plot(koku, kanjo2, label=\"Recover\")\n",
    "plt.title(\"30分毎の感染人数\", fontname=\"MS Gothic\")\n",
    "plt.xlabel(\"時刻[時]\", fontname=\"MS Gothic\")\n",
    "plt.ylabel(\"感染人数[人]\", fontname=\"MS Gothic\")\n",
    "plt.xticks( np.arange(0, 24, 1))\n",
    "plt.yticks( np.arange(0, 6000, 500))\n",
    "plt.legend(loc=0) \n",
    "plt.grid(True)\n",
    "plt.show() \n",
    "fig.savefig(\"plot2.png\")"
   ]
  },
  {
   "cell_type": "code",
   "execution_count": null,
   "metadata": {},
   "outputs": [],
   "source": [
    "fin = []\n",
    "fin.append(sums315)\n",
    "fin.append([sheet4[a].count('0') for a in range(48)])\n",
    "fin.append([sheet4[a].count('1') for a in range(48)])\n",
    "fin.append([sheet4[a].count('2') for a in range(48)])"
   ]
  },
  {
   "cell_type": "code",
   "execution_count": null,
   "metadata": {},
   "outputs": [],
   "source": [
    "with pd.ExcelWriter('result2.xlsx') as writer:\n",
    "    pd.DataFrame(fin).to_excel(writer, sheet_name='sheet1')"
   ]
  }
 ],
 "metadata": {
  "kernelspec": {
   "display_name": "Python 3.10.1 64-bit",
   "language": "python",
   "name": "python3"
  },
  "language_info": {
   "codemirror_mode": {
    "name": "ipython",
    "version": 3
   },
   "file_extension": ".py",
   "mimetype": "text/x-python",
   "name": "python",
   "nbconvert_exporter": "python",
   "pygments_lexer": "ipython3",
   "version": "3.10.1"
  },
  "vscode": {
   "interpreter": {
    "hash": "83acdbecad907151b3031d4a95a69bb8f19c17c7744d8e1da67a9b7e86d5d483"
   }
  }
 },
 "nbformat": 4,
 "nbformat_minor": 4
}
